{
 "cells": [
  {
   "cell_type": "code",
   "execution_count": 1,
   "metadata": {},
   "outputs": [],
   "source": [
    "import numpy as np\n",
    "import pandas as pd\n",
    "import warnings\n",
    "from sklearn.preprocessing import StandardScaler, OrdinalEncoder, OneHotEncoder, MinMaxScaler\n",
    "from sklearn.model_selection import KFold\n",
    "from sklearn.linear_model import LogisticRegression\n",
    "from sklearn.metrics import classification_report, roc_auc_score\n",
    "from imblearn.over_sampling import SMOTE\n",
    "import matplotlib\n"
   ]
  },
  {
   "cell_type": "code",
   "execution_count": 2,
   "metadata": {},
   "outputs": [],
   "source": [
    "# 归一化预处理\n",
    "class Normalizer:\n",
    "    def __init__(self, dataframe):\n",
    "        \"\"\"\n",
    "        初始化类，接收一个DataFrame作为输入。\n",
    "        \"\"\"\n",
    "        self.dataframe = dataframe\n",
    "        self.scaler = MinMaxScaler()\n",
    "        self.normalized_data = None\n",
    "        self.scaler_params = None\n",
    "\n",
    "    def get_normalization_params(self):\n",
    "        \"\"\"\n",
    "        获取归一化参数（基于MinMaxScaler）。\n",
    "        \"\"\"\n",
    "        # 拟合数据以获取归一化参数\n",
    "        self.scaler.fit(self.dataframe)\n",
    "        \n",
    "        # 保存归一化参数\n",
    "        self.scaler_params = {\n",
    "            'data_min': self.scaler.data_min_,\n",
    "            'data_max': self.scaler.data_max_\n",
    "        }\n",
    "        return self.scaler_params\n",
    "\n",
    "    def preprocess(self, otherdata=None):\n",
    "        \"\"\"\n",
    "        对数据进行归一化处理。\n",
    "        使用类中的归一化参数，如果参数为空则抛出提示。\n",
    "\n",
    "        参数:\n",
    "        - otherdata: 可选参数，指定需要归一化的数据。如果未提供，则默认使用类中的dataframe。\n",
    "        \"\"\"\n",
    "        if self.scaler_params is None:\n",
    "            raise ValueError(\"归一化参数为空！请先调用 `get_normalization_params` 方法获取归一化参数。\")\n",
    "        \n",
    "        # 如果未提供otherdata，则使用类中的dataframe\n",
    "        if otherdata is None:\n",
    "            otherdata = self.dataframe\n",
    "        \n",
    "        # 使用类中的归一化参数进行归一化\n",
    "        data_min = self.scaler_params['data_min']\n",
    "        data_max = self.scaler_params['data_max']\n",
    "        normalized_data = (otherdata - data_min) / (data_max - data_min)\n",
    "        \n",
    "        # 将归一化后的数据转换回DataFrame\n",
    "        normalized_df = pd.DataFrame(normalized_data, columns=otherdata.columns)\n",
    "        return normalized_df\n",
    "\n",
    "# 从 CSV 文件中读取数据并转换为 DataFrame\n",
    "df_drop = pd.read_csv('df_drop.csv')\n",
    "df = pd.read_csv('df.csv')"
   ]
  },
  {
   "cell_type": "markdown",
   "metadata": {},
   "source": [
    "### 随机森林调参过程"
   ]
  },
  {
   "cell_type": "code",
   "execution_count": 3,
   "metadata": {},
   "outputs": [
    {
     "data": {
      "text/plain": [
       "\"\\nrf = RandomForestClassifier(\\n    n_estimators=100,           # 树的数量\\n\\n    criterion='gini',          # 分裂标准\\n    max_depth=None,              # 树的最大深度\\n    min_samples_split=2,       # 分裂内部节点所需的最小样本数\\n    min_samples_leaf=1,        # 叶节点所需的最小样本数\\n    max_features='auto',       # 寻找最佳分裂时考虑的特征数量\\n\\n    random_state=68,           # 随机种子\\n    n_jobs=-1                  # 使用所有 CPU 核心\\n)\\n\""
      ]
     },
     "execution_count": 3,
     "metadata": {},
     "output_type": "execute_result"
    }
   ],
   "source": [
    "# 随机森林默认参数\n",
    "'''\n",
    "rf = RandomForestClassifier(\n",
    "    n_estimators=100,           # 树的数量\n",
    "\n",
    "    criterion='gini',          # 分裂标准\n",
    "    max_depth=None,              # 树的最大深度\n",
    "    min_samples_split=2,       # 分裂内部节点所需的最小样本数\n",
    "    min_samples_leaf=1,        # 叶节点所需的最小样本数\n",
    "    max_features='auto',       # 寻找最佳分裂时考虑的特征数量\n",
    "\n",
    "    random_state=68,           # 随机种子\n",
    "    n_jobs=-1                  # 使用所有 CPU 核心\n",
    ")\n",
    "'''"
   ]
  },
  {
   "cell_type": "code",
   "execution_count": 4,
   "metadata": {},
   "outputs": [
    {
     "name": "stdout",
     "output_type": "stream",
     "text": [
      "rf: 0.8939393939393939\n",
      "cv: 0.8696969696969697\n"
     ]
    }
   ],
   "source": [
    "from sklearn.model_selection import train_test_split, cross_val_score, GridSearchCV, KFold\n",
    "import pandas as pd\n",
    "import numpy as np\n",
    "import matplotlib.pyplot as plt\n",
    "from sklearn.ensemble import RandomForestClassifier\n",
    "\n",
    "# 假设 df_drop 是你的数据集\n",
    "data = df_drop\n",
    "df_X = df_drop.drop('Attrition', axis=1)\n",
    "df_Y = df_drop['Attrition']\n",
    "\n",
    "# 固定训练集和测试集的划分\n",
    "xtrain, xtest, ytrain, ytest = train_test_split(df_X, df_Y, test_size=0.3, random_state=68)\n",
    "\n",
    "# Normalizer 是自定义归一化类\n",
    "normalize2 = Normalizer(xtrain)\n",
    "normalize2.get_normalization_params()\n",
    "xtrain = normalize2.preprocess()\n",
    "xtest = normalize2.preprocess(xtest)\n",
    "\n",
    "# 初始化随机森林模型，固定随机种子\n",
    "rf = RandomForestClassifier(\n",
    "    n_estimators=28,           # 树的数量\n",
    "    max_depth=18,              # 树的最大深度\n",
    "    min_samples_leaf=2,        # 叶节点所需的最小样本数\n",
    "    min_samples_split=2,       # 分裂内部节点所需的最小样本数\n",
    "    max_features=24,       # 寻找最佳分裂时考虑的特征数量\n",
    "    criterion='gini',          # 分裂标准\n",
    "\n",
    "    random_state=68,           # 随机种子\n",
    "    n_jobs=-1                  # 使用所有 CPU 核心\n",
    ")\n",
    "\n",
    "# 训练模型\n",
    "rf.fit(xtrain, ytrain)\n",
    "\n",
    "# 评估模型\n",
    "score = rf.score(xtest, ytest)\n",
    "\n",
    "# 固定交叉验证的随机种子\n",
    "kf = KFold(n_splits=5, shuffle=True, random_state=68)\n",
    "cross_s = cross_val_score(rf, xtest, ytest, cv=kf).mean()\n",
    "\n",
    "# 输出结果\n",
    "print('rf:', score)\n",
    "print('cv:', cross_s)"
   ]
  },
  {
   "cell_type": "code",
   "execution_count": 5,
   "metadata": {},
   "outputs": [
    {
     "data": {
      "image/png": "[encoded data removed]",
      "text/plain": [
       "<Figure size 640x480 with 1 Axes>"
      ]
     },
     "metadata": {},
     "output_type": "display_data"
    },
    {
     "name": "stdout",
     "output_type": "stream",
     "text": [
      "71 0.8696969696969697\n"
     ]
    },
    {
     "data": {
      "image/png": "[encoded data removed]",
      "text/plain": [
       "<Figure size 640x480 with 1 Axes>"
      ]
     },
     "metadata": {},
     "output_type": "display_data"
    },
    {
     "name": "stdout",
     "output_type": "stream",
     "text": [
      "28 0.8696969696969697\n"
     ]
    }
   ],
   "source": [
    "#调参第一步：n_estimators\n",
    "cross = []\n",
    "for i  in range(0,200,10):\n",
    "    rf = RandomForestClassifier(n_estimators=i+1, n_jobs=-1,random_state=68)\n",
    "    cross_score = cross_val_score(rf, xtest, ytest, cv=kf).mean()\n",
    "    cross.append(cross_score)\n",
    "matplotlib.rcParams['font.sans-serif']=['SimHei'] \n",
    "plt.plot(range(1,201,10),cross)\n",
    "max_index2 = (cross.index(max(cross))*10)+1\n",
    "plt.axvline(x=max_index2, color='red', linestyle='--',linewidth=1, label='最大值位置')\n",
    "plt.scatter(max_index2, max(cross), color='red', label='最大值')\n",
    "plt.xlabel('n_estimators')\n",
    "plt.ylabel('准确率')\n",
    "plt.legend()\n",
    "plt.show()\n",
    "print((cross.index(max(cross))*10)+1,max(cross))\n",
    "\n",
    "# n_estimators缩小范围\n",
    "cross = []\n",
    "for i  in range(0,50):\n",
    "    rf = RandomForestClassifier(n_estimators=i+1, n_jobs=-1,random_state=68)\n",
    "    cross_score = cross_val_score(rf, xtest, ytest, cv=kf).mean()\n",
    "    cross.append(cross_score)\n",
    "plt.plot(range(1,51),cross)\n",
    "max_index2 = cross.index(max(cross))+1\n",
    "plt.axvline(x=max_index2, color='red', linestyle='--', linewidth=1,label='最大值位置')\n",
    "plt.scatter(max_index2, max(cross), color='red', label='最大值')\n",
    "plt.xlabel('n_estimators')\n",
    "plt.ylabel('准确率')\n",
    "plt.legend()\n",
    "plt.show()\n",
    "print(cross.index(max(cross))+1,max(cross))"
   ]
  },
  {
   "cell_type": "code",
   "execution_count": 6,
   "metadata": {},
   "outputs": [
    {
     "data": {
      "text/plain": [
       "{'max_depth': 18}"
      ]
     },
     "execution_count": 6,
     "metadata": {},
     "output_type": "execute_result"
    }
   ],
   "source": [
    "#调整max_depth\n",
    "param_grid = {'max_depth' : np.arange(1,50,1)}\n",
    "#一般根据数据大小进行尝试，像该数据集 可从1-10 或1-20开始\n",
    "rf = RandomForestClassifier(n_estimators=28,random_state=68)\n",
    "GS = GridSearchCV(rf,param_grid,cv=kf)\n",
    "GS.fit(df_X,df_Y)\n",
    "GS.best_score_\n",
    "GS.best_params_\n",
    "\n"
   ]
  },
  {
   "cell_type": "code",
   "execution_count": 7,
   "metadata": {},
   "outputs": [
    {
     "data": {
      "text/plain": [
       "{'min_samples_leaf': 2}"
      ]
     },
     "execution_count": 7,
     "metadata": {},
     "output_type": "execute_result"
    }
   ],
   "source": [
    "\n",
    "#调整min_samples_leaf\n",
    "param_grid = {'min_samples_leaf' : np.arange(1,1+50,1)}\n",
    "#一般是从其最小值开始向上增加10或者20\n",
    "# 面对高维度高样本数据，如果不放心，也可以直接+50，对于大型数据可能需要增加200-300\n",
    "# 如果调整的时候发现准确率怎么都上不来，那可以放心大胆调一个很大的数据，大力限制模型的复杂度\n",
    "rf = RandomForestClassifier(n_estimators=28,max_depth=18, random_state=68)\n",
    "GS = GridSearchCV(rf,param_grid,cv=kf)\n",
    "GS.fit(df_X,df_Y)\n",
    "GS.best_score_\n",
    "GS.best_params_"
   ]
  },
  {
   "cell_type": "code",
   "execution_count": 8,
   "metadata": {},
   "outputs": [
    {
     "data": {
      "text/plain": [
       "{'min_samples_split': 2}"
      ]
     },
     "execution_count": 8,
     "metadata": {},
     "output_type": "execute_result"
    }
   ],
   "source": [
    "\n",
    "#调整min_samples_split\n",
    "param_grid = {'min_samples_split' : np.arange(2,2+50,1)}\n",
    "#一般是从其最小值开始向上增加10或者20\n",
    "# 面对高维度高样本数据，如果不放心，也可以直接+50，对于大型数据可能需要增加200-300\n",
    "# 如果调整的时候发现准确率怎么都上不来，那可以放心大胆调一个很大的数据，大力限制模型的复杂度\n",
    "rf = RandomForestClassifier(n_estimators=28,max_depth=18, min_samples_leaf=2, random_state=68)\n",
    "GS = GridSearchCV(rf,param_grid,cv=kf)\n",
    "GS.fit(df_X,df_Y)\n",
    "GS.best_score_\n",
    "GS.best_params_\n",
    " \n"
   ]
  },
  {
   "cell_type": "code",
   "execution_count": 9,
   "metadata": {},
   "outputs": [
    {
     "data": {
      "text/plain": [
       "{'max_features': 24}"
      ]
     },
     "execution_count": 9,
     "metadata": {},
     "output_type": "execute_result"
    }
   ],
   "source": [
    "#调整max_features\n",
    "param_grid = {'max_features' : np.arange(5,35,1)}\n",
    "rf = RandomForestClassifier(n_estimators=28,max_depth=18, min_samples_leaf=2, random_state=68)\n",
    "GS = GridSearchCV(rf,param_grid,cv=kf)\n",
    "GS.fit(df_X,df_Y)\n",
    "GS.best_score_\n",
    "GS.best_params_\n"
   ]
  },
  {
   "cell_type": "code",
   "execution_count": 10,
   "metadata": {},
   "outputs": [
    {
     "data": {
      "text/plain": [
       "{'criterion': 'gini'}"
      ]
     },
     "execution_count": 10,
     "metadata": {},
     "output_type": "execute_result"
    }
   ],
   "source": [
    "#调整criterion\n",
    "param_grid = {'criterion' :['gini','entropy']}\n",
    "#一般是从其最小值开始向上增加10或者20\n",
    "# 面对高维度高样本数据，如果不放心，也可以直接+50，对于大型数据可能需要增加200-300\n",
    "# 如果调整的时候发现准确率怎么都上不来，那可以放心大胆调一个很大的数据，大力限制模型的复杂度\n",
    "rf = RandomForestClassifier(n_estimators=28,max_depth=18, min_samples_leaf=2, max_features=24, random_state=68)\n",
    "GS = GridSearchCV(rf,param_grid,cv=kf)\n",
    "GS.fit(df_X,df_Y)\n",
    "GS.best_score_\n",
    "GS.best_params_"
   ]
  }
 ],
 "metadata": {
  "kernelspec": {
   "display_name": "base",
   "language": "python",
   "name": "python3"
  },
  "language_info": {
   "codemirror_mode": {
    "name": "ipython",
    "version": 3
   },
   "file_extension": ".py",
   "mimetype": "text/x-python",
   "name": "python",
   "nbconvert_exporter": "python",
   "pygments_lexer": "ipython3",
   "version": "3.9.13"
  }
 },
 "nbformat": 4,
 "nbformat_minor": 2
}
