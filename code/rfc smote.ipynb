{
 "cells": [
  {
   "cell_type": "code",
   "execution_count": 16,
   "metadata": {},
   "outputs": [],
   "source": [
    "import numpy as np\n",
    "import pandas as pd\n",
    "import warnings\n",
    "import matplotlib.pyplot as plt\n",
    "import matplotlib\n",
    "from sklearn.preprocessing import StandardScaler, OrdinalEncoder, OneHotEncoder, MinMaxScaler\n",
    "from sklearn.linear_model import LogisticRegression\n",
    "from sklearn.ensemble import RandomForestClassifier\n",
    "from sklearn.metrics import classification_report, roc_auc_score, accuracy_score\n",
    "from sklearn.model_selection import train_test_split, cross_val_score, GridSearchCV, KFold\n",
    "from sklearn.datasets import load_breast_cancer\n",
    "from imblearn.over_sampling import SMOTE\n",
    "from imblearn.pipeline import Pipeline"
   ]
  },
  {
   "cell_type": "code",
   "execution_count": 17,
   "metadata": {},
   "outputs": [],
   "source": [
    "# 归一化预处理\n",
    "class Normalizer:\n",
    "    def __init__(self, dataframe):\n",
    "        \"\"\"\n",
    "        初始化类，接收一个DataFrame作为输入。\n",
    "        \"\"\"\n",
    "        self.dataframe = dataframe\n",
    "        self.scaler = MinMaxScaler()\n",
    "        self.normalized_data = None\n",
    "        self.scaler_params = None\n",
    "\n",
    "    def get_normalization_params(self):\n",
    "        \"\"\"\n",
    "        获取归一化参数（基于MinMaxScaler）。\n",
    "        \"\"\"\n",
    "        # 拟合数据以获取归一化参数\n",
    "        self.scaler.fit(self.dataframe)\n",
    "        \n",
    "        # 保存归一化参数\n",
    "        self.scaler_params = {\n",
    "            'data_min': self.scaler.data_min_,\n",
    "            'data_max': self.scaler.data_max_\n",
    "        }\n",
    "        return self.scaler_params\n",
    "\n",
    "    def preprocess(self, otherdata=None):\n",
    "        \"\"\"\n",
    "        对数据进行归一化处理。\n",
    "        使用类中的归一化参数，如果参数为空则抛出提示。\n",
    "\n",
    "        参数:\n",
    "        - otherdata: 可选参数，指定需要归一化的数据。如果未提供，则默认使用类中的dataframe。\n",
    "        \"\"\"\n",
    "        if self.scaler_params is None:\n",
    "            raise ValueError(\"归一化参数为空！请先调用 `get_normalization_params` 方法获取归一化参数。\")\n",
    "        \n",
    "        # 如果未提供otherdata，则使用类中的dataframe\n",
    "        if otherdata is None:\n",
    "            otherdata = self.dataframe\n",
    "        \n",
    "        # 使用类中的归一化参数进行归一化\n",
    "        data_min = self.scaler_params['data_min']\n",
    "        data_max = self.scaler_params['data_max']\n",
    "        normalized_data = (otherdata - data_min) / (data_max - data_min)\n",
    "        \n",
    "        # 将归一化后的数据转换回DataFrame\n",
    "        normalized_df = pd.DataFrame(normalized_data, columns=otherdata.columns)\n",
    "        return normalized_df\n",
    "\n",
    "# 从 CSV 文件中读取数据并转换为 DataFrame\n",
    "df_drop = pd.read_csv('df_drop.csv')\n",
    "df = pd.read_csv('df.csv')"
   ]
  },
  {
   "cell_type": "markdown",
   "metadata": {},
   "source": [
    "### 随机森林"
   ]
  },
  {
   "cell_type": "code",
   "execution_count": 18,
   "metadata": {},
   "outputs": [
    {
     "data": {
      "text/plain": [
       "\"\\nrf = RandomForestClassifier(\\n    n_estimators=100,           # 树的数量\\n    max_depth=None,              # 树的最大深度\\n    min_samples_leaf=1,        # 叶节点所需的最小样本数\\n    min_samples_split=2,       # 分裂内部节点所需的最小样本数\\n    max_features='auto',       # 寻找最佳分裂时考虑的特征数量\\n    criterion='gini',          # 分裂标准\\n\\n    random_state=68,           # 随机种子\\n    n_jobs=-1                  # 使用所有 CPU 核心\\n)\\n\""
      ]
     },
     "execution_count": 18,
     "metadata": {},
     "output_type": "execute_result"
    }
   ],
   "source": [
    "# 随机森林模型部分默认参数\n",
    "'''\n",
    "rf = RandomForestClassifier(\n",
    "    n_estimators=100,           # 树的数量\n",
    "    max_depth=None,              # 树的最大深度\n",
    "    min_samples_leaf=1,        # 叶节点所需的最小样本数\n",
    "    min_samples_split=2,       # 分裂内部节点所需的最小样本数\n",
    "    max_features='auto',       # 寻找最佳分裂时考虑的特征数量\n",
    "    criterion='gini',          # 分裂标准\n",
    "\n",
    "    random_state=68,           # 随机种子\n",
    "    n_jobs=-1                  # 使用所有 CPU 核心\n",
    ")\n",
    "'''"
   ]
  },
  {
   "cell_type": "code",
   "execution_count": 19,
   "metadata": {},
   "outputs": [
    {
     "name": "stdout",
     "output_type": "stream",
     "text": [
      "测试集准确率: 0.9030303030303031\n",
      "交叉验证平均准确率: 0.933274664196387\n"
     ]
    }
   ],
   "source": [
    "data = df_drop\n",
    "df_X = df_drop.drop('Attrition', axis=1)\n",
    "df_Y = df_drop['Attrition']\n",
    "\n",
    "# 固定训练集和测试集的划分\n",
    "xtrain, xtest, ytrain, ytest = train_test_split(df_X, df_Y, test_size=0.3, random_state=68)\n",
    "\n",
    "# Normalizer 是自定义归一化类\n",
    "normalize2 = Normalizer(xtrain)\n",
    "normalize2.get_normalization_params()\n",
    "xtrain = normalize2.preprocess()\n",
    "xtest = normalize2.preprocess(xtest)\n",
    "\n",
    "# 对训练集进行 SMOTE 过采样\n",
    "smote = SMOTE(random_state=68)\n",
    "xtrain_resampled, ytrain_resampled = smote.fit_resample(xtrain, ytrain)\n",
    "\n",
    "# 初始化随机森林模型，固定随机种子\n",
    "rf = RandomForestClassifier(\n",
    "    n_estimators=151,           # 树的数量\n",
    "\n",
    "    max_depth=None,              # 树的最大深度\n",
    "    min_samples_leaf=1,        # 叶节点所需的最小样本数\n",
    "    min_samples_split=2,       # 分裂内部节点所需的最小样本数\n",
    "    max_features='auto',       # 寻找最佳分裂时考虑的特征数量\n",
    "    criterion='gini',          # 分裂标准\n",
    "\n",
    "    random_state=68,           # 随机种子\n",
    "    n_jobs=-1                  # 使用所有 CPU 核心\n",
    ")\n",
    "\n",
    "# 训练模型\n",
    "rf.fit(xtrain_resampled, ytrain_resampled)\n",
    "\n",
    "# 在测试集上评估模型\n",
    "score = rf.score(xtest, ytest)\n",
    "\n",
    "# 在训练集上进行交叉验证\n",
    "kf = KFold(n_splits=5, shuffle=True, random_state=68)\n",
    "cross_s = cross_val_score(rf, xtrain_resampled, ytrain_resampled, cv=kf).mean()\n",
    "\n",
    "# 输出结果\n",
    "print('测试集准确率:', score)\n",
    "print('交叉验证平均准确率:', cross_s)"
   ]
  },
  {
   "cell_type": "code",
   "execution_count": 20,
   "metadata": {},
   "outputs": [
    {
     "data": {
      "image/png": "[encoded data removed]",
      "text/plain": [
       "<Figure size 640x480 with 1 Axes>"
      ]
     },
     "metadata": {},
     "output_type": "display_data"
    },
    {
     "name": "stdout",
     "output_type": "stream",
     "text": [
      "最佳 n_estimators: 151, 最高准确率: 0.9333\n"
     ]
    },
    {
     "data": {
      "image/png": "[encoded data removed]",
      "text/plain": [
       "<Figure size 640x480 with 1 Axes>"
      ]
     },
     "metadata": {},
     "output_type": "display_data"
    },
    {
     "name": "stdout",
     "output_type": "stream",
     "text": [
      "最佳 n_estimators: 37, 最高准确率: 0.9301\n"
     ]
    }
   ],
   "source": [
    "### n_estimators 调参 ###\n",
    "data = df_drop\n",
    "df_X = df_drop.drop('Attrition', axis=1)\n",
    "df_Y = df_drop['Attrition']\n",
    "\n",
    "# 固定训练集和测试集的划分\n",
    "xtrain, xtest, ytrain, ytest = train_test_split(df_X, df_Y, test_size=0.3, random_state=68)\n",
    "\n",
    "# 假设 Normalizer 是你的自定义归一化类\n",
    "normalize2 = Normalizer(xtrain)\n",
    "normalize2.get_normalization_params()\n",
    "xtrain = normalize2.preprocess()\n",
    "xtest = normalize2.preprocess(xtest)\n",
    "\n",
    "# 使用 SMOTE 进行过采样\n",
    "smote = SMOTE(random_state=68)\n",
    "xtrain_resampled, ytrain_resampled = smote.fit_resample(xtrain, ytrain)\n",
    "\n",
    "# 固定交叉验证的随机种子\n",
    "kf = KFold(n_splits=5, shuffle=True, random_state=68)\n",
    "\n",
    "# 调参第一步：n_estimators\n",
    "cross = []\n",
    "for i in range(0, 200, 10):\n",
    "    rf = RandomForestClassifier(n_estimators=i + 1, n_jobs=-1, random_state=68)\n",
    "    cross_score = cross_val_score(rf, xtrain_resampled, ytrain_resampled, cv=kf).mean()\n",
    "    cross.append(cross_score)\n",
    "\n",
    "# 中文环境\n",
    "matplotlib.rcParams['font.sans-serif']=['SimHei'] \n",
    "\n",
    "# 绘制 n_estimators 的调参结果\n",
    "plt.plot(range(1, 201, 10), cross)\n",
    "plt.xlabel('n_estimators')\n",
    "plt.ylabel('准确率')\n",
    "plt.show()\n",
    "\n",
    "# 输出最佳 n_estimators 和对应的准确率\n",
    "best_n_estimators = (cross.index(max(cross)) * 10) + 1\n",
    "best_acc = max(cross)\n",
    "print(f\"最佳 n_estimators: {best_n_estimators}, 最高准确率: {best_acc:.4f}\")\n",
    "\n",
    "# n_estimators 缩小范围\n",
    "cross = []\n",
    "for i in range(0, 50):\n",
    "    rf = RandomForestClassifier(n_estimators=i + 1, n_jobs=-1, random_state=68)\n",
    "    cross_score = cross_val_score(rf, xtrain_resampled, ytrain_resampled, cv=kf).mean()\n",
    "    cross.append(cross_score)\n",
    "\n",
    "# 绘制缩小范围后的 n_estimators 调参结果\n",
    "plt.plot(range(1, 51), cross)\n",
    "plt.xlabel('n_estimators')\n",
    "plt.ylabel('准确率')\n",
    "plt.show()\n",
    "\n",
    "# 输出最佳 n_estimators 和对应的准确率\n",
    "best_n_estimators = cross.index(max(cross)) + 1\n",
    "best_acc = max(cross)\n",
    "print(f\"最佳 n_estimators: {best_n_estimators}, 最高准确率: {best_acc:.4f}\")"
   ]
  },
  {
   "cell_type": "code",
   "execution_count": 21,
   "metadata": {},
   "outputs": [
    {
     "name": "stdout",
     "output_type": "stream",
     "text": [
      "当前调参: {'rf__max_depth': array([ 1,  2,  3,  4,  5,  6,  7,  8,  9, 10, 11, 12, 13, 14, 15, 16, 17,\n",
      "       18, 19, 20, 21, 22, 23, 24, 25, 26, 27, 28, 29, 30])}\n",
      "最佳参数: {'rf__max_depth': 13}\n",
      "最佳得分: 0.8781818181818182\n",
      "--------------------------------------------------\n",
      "当前调参: {'rf__min_samples_leaf': array([ 1,  2,  3,  4,  5,  6,  7,  8,  9, 10, 11, 12, 13, 14, 15, 16, 17,\n",
      "       18, 19, 20, 21, 22, 23, 24, 25, 26, 27, 28, 29, 30, 31, 32, 33, 34,\n",
      "       35, 36, 37, 38, 39, 40, 41, 42, 43, 44, 45, 46, 47, 48, 49, 50])}\n",
      "最佳参数: {'rf__min_samples_leaf': 11}\n",
      "最佳得分: 0.8818181818181818\n",
      "--------------------------------------------------\n",
      "当前调参: {'rf__min_samples_split': array([ 2,  3,  4,  5,  6,  7,  8,  9, 10, 11, 12, 13, 14, 15, 16, 17, 18,\n",
      "       19, 20, 21, 22, 23, 24, 25, 26, 27, 28, 29, 30, 31, 32, 33, 34, 35,\n",
      "       36, 37, 38, 39, 40, 41, 42, 43, 44, 45, 46, 47, 48, 49, 50, 51])}\n",
      "最佳参数: {'rf__min_samples_split': 2}\n",
      "最佳得分: 0.8818181818181818\n",
      "--------------------------------------------------\n",
      "当前调参: {'rf__max_features': array([ 2,  3,  4,  5,  6,  7,  8,  9, 10, 11, 12, 13, 14, 15, 16, 17, 18,\n",
      "       19, 20, 21, 22, 23, 24, 25, 26, 27, 28, 29, 30, 31, 32, 33, 34])}\n",
      "最佳参数: {'rf__max_features': 5}\n",
      "最佳得分: 0.8818181818181818\n",
      "--------------------------------------------------\n",
      "当前调参: {'rf__criterion': ['gini', 'entropy']}\n",
      "最佳参数: {'rf__criterion': 'gini'}\n",
      "最佳得分: 0.8818181818181818\n",
      "--------------------------------------------------\n",
      "最终最佳参数: {'rf__max_depth': 13, 'rf__min_samples_leaf': 11, 'rf__min_samples_split': 2, 'rf__max_features': 5, 'rf__criterion': 'gini'}\n"
     ]
    }
   ],
   "source": [
    "### 剩余参数调参（可选） ###\n",
    "\n",
    "# 固定交叉验证的随机种子\n",
    "kf = KFold(n_splits=5, shuffle=True, random_state=68)\n",
    "\n",
    "# 初始化随机森林模型\n",
    "rf = RandomForestClassifier(n_estimators=37, random_state=68)\n",
    "\n",
    "# 创建包含 SMOTE 和随机森林的 Pipeline\n",
    "pipeline = Pipeline([\n",
    "    ('smote', SMOTE(random_state=68)),  # SMOTE 过采样\n",
    "    ('rf', rf)  # 随机森林模型\n",
    "])\n",
    "\n",
    "# 定义调参步骤（按照指定顺序）\n",
    "param_grids = [\n",
    "    {'rf__max_depth': np.arange(1, 31, 1)},  # 调整 max_depth\n",
    "    {'rf__min_samples_leaf': np.arange(1, 51, 1)},  # 调整 min_samples_leaf\n",
    "    {'rf__min_samples_split': np.arange(2, 52, 1)},  # 调整 min_samples_split\n",
    "    {'rf__max_features': np.arange(2, 35, 1)},  # 调整 max_features\n",
    "    {'rf__criterion': ['gini', 'entropy']}  # 调整 criterion\n",
    "]\n",
    "\n",
    "# 初始化最佳参数\n",
    "best_params = {}\n",
    "\n",
    "# 遍历每个参数网格进行调参\n",
    "for param_grid in param_grids:\n",
    "    # 将当前最佳参数应用到模型中\n",
    "    pipeline.set_params(**best_params)\n",
    "    \n",
    "    # 使用 GridSearchCV 进行调参\n",
    "    GS = GridSearchCV(pipeline, param_grid, cv=kf, n_jobs=-1)\n",
    "    GS.fit(df_X, df_Y)\n",
    "    \n",
    "    # 更新最佳参数\n",
    "    best_params.update(GS.best_params_)\n",
    "    \n",
    "    # 输出当前调参结果\n",
    "    print(\"当前调参:\", param_grid)\n",
    "    print(\"最佳参数:\", GS.best_params_)\n",
    "    print(\"最佳得分:\", GS.best_score_)\n",
    "    print(\"-\" * 50)\n",
    "\n",
    "# 输出最终的最佳参数\n",
    "print(\"最终最佳参数:\", best_params)"
   ]
  }
 ],
 "metadata": {
  "kernelspec": {
   "display_name": "base",
   "language": "python",
   "name": "python3"
  },
  "language_info": {
   "codemirror_mode": {
    "name": "ipython",
    "version": 3
   },
   "file_extension": ".py",
   "mimetype": "text/x-python",
   "name": "python",
   "nbconvert_exporter": "python",
   "pygments_lexer": "ipython3",
   "version": "3.9.13"
  }
 },
 "nbformat": 4,
 "nbformat_minor": 2
}
